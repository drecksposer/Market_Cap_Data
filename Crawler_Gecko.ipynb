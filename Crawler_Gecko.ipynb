{
 "cells": [
  {
   "cell_type": "code",
   "execution_count": 349,
   "metadata": {},
   "outputs": [
    {
     "name": "stdout",
     "output_type": "stream",
     "text": [
      "Requirement already satisfied: pycoingecko in /Users/konstantin/opt/anaconda3/lib/python3.7/site-packages (1.2.0)\n",
      "Requirement already satisfied: requests in /Users/konstantin/opt/anaconda3/lib/python3.7/site-packages (from pycoingecko) (2.22.0)\n",
      "Requirement already satisfied: certifi>=2017.4.17 in /Users/konstantin/opt/anaconda3/lib/python3.7/site-packages (from requests->pycoingecko) (2019.9.11)\n",
      "Requirement already satisfied: idna<2.9,>=2.5 in /Users/konstantin/opt/anaconda3/lib/python3.7/site-packages (from requests->pycoingecko) (2.8)\n",
      "Requirement already satisfied: chardet<3.1.0,>=3.0.2 in /Users/konstantin/opt/anaconda3/lib/python3.7/site-packages (from requests->pycoingecko) (3.0.4)\n",
      "Requirement already satisfied: urllib3!=1.25.0,!=1.25.1,<1.26,>=1.21.1 in /Users/konstantin/opt/anaconda3/lib/python3.7/site-packages (from requests->pycoingecko) (1.24.2)\n",
      "Note: you may need to restart the kernel to use updated packages.\n"
     ]
    }
   ],
   "source": [
    "pip install pycoingecko"
   ]
  },
  {
   "cell_type": "code",
   "execution_count": 733,
   "metadata": {},
   "outputs": [],
   "source": [
    "from pycoingecko import CoinGeckoAPI\n",
    "cg = CoinGeckoAPI()"
   ]
  },
  {
   "cell_type": "code",
   "execution_count": 734,
   "metadata": {},
   "outputs": [],
   "source": [
    "import pandas as pd\n",
    "import numpy as np\n",
    "import time\n",
    "from datetime import datetime\n",
    "from functools import reduce"
   ]
  },
  {
   "cell_type": "code",
   "execution_count": 735,
   "metadata": {},
   "outputs": [],
   "source": [
    "#import os\n",
    "#os.getcwd()\n",
    "#os.chdir(\"/Users/konstantin/Desktop/dateien/IRTG 1792/CoinGecko/coin_data\")"
   ]
  },
  {
   "cell_type": "code",
   "execution_count": 736,
   "metadata": {},
   "outputs": [],
   "source": [
    "def get_coins_name_id(dataframe_coin):\n",
    "    coin_ids = dataframe_coin['id']\n",
    "    coin_names = dataframe_coin['name']\n",
    "    \n",
    "    return coin_ids, coin_names"
   ]
  },
  {
   "cell_type": "code",
   "execution_count": 737,
   "metadata": {},
   "outputs": [],
   "source": [
    "def create_dataframe(coin, coin_id, minimum_date, maximum_date):\n",
    "\n",
    "    dataframe = []\n",
    "    timeseries = []\n",
    "    names = [key for key, val in coin.items()]\n",
    "    for i in range([len(val) for key, val in coin.items()][0]):\n",
    "        variables = [item[i][1] for item in coin.values()]\n",
    "        date = [datetime.fromtimestamp(item[i][0]/1000).strftime(\"%Y-%m-%d\") for item in coin.values()][0]\n",
    "        dataframe.append(variables)\n",
    "        timeseries.append(date)\n",
    "        minimum_date.append(min(timeseries))\n",
    "        maximum_date.append(max(timeseries))\n",
    "    \n",
    "    dataframe = pd.DataFrame(dataframe, columns = names)\n",
    "    dataframe[\"Datetime\"] = timeseries\n",
    "    dataframe[\"Datetime\"] = pd.to_datetime(dataframe[\"Datetime\"])\n",
    "    dataframe[\"Id\"] = coin_id\n",
    "    dataframe = dataframe.set_index([\"Datetime\",\"Id\"])\n",
    "    \n",
    "    return minimum_date, maximum_date, timeseries, dataframe"
   ]
  },
  {
   "cell_type": "code",
   "execution_count": 738,
   "metadata": {},
   "outputs": [],
   "source": [
    "def get_df_by_coin_time_range_to_csv(coin_ids, n_start = 0, n_end = 10, \n",
    "                              from_time = '1522195200', to_time = '1575158400', Save = False):\n",
    "\n",
    "    frames = []\n",
    "    minim_date = []\n",
    "    maxim_date = []\n",
    "    id_coin = []\n",
    "    \n",
    "    for coin in coin_ids[n_start : n_end]:\n",
    "        tmp = cg.get_coin_market_chart_range_by_id(id=coin, vs_currency= 'usd', \n",
    "                                                   from_timestamp = from_time, to_timestamp = to_time) \n",
    "    \n",
    "        if [val for key, val in tmp.items()][0] == []:\n",
    "            continue\n",
    "        else: \n",
    "            id_coin.append(coin) \n",
    "            \n",
    "        minim_date, maxim_date, t, dataframe = create_dataframe(tmp, coin, minim_date, maxim_date) \n",
    "        \n",
    "        if Save == True:\n",
    "            dataframe.to_csv(coin) \n",
    "            time.sleep(10)\n",
    "            frames.append(dataframe)\n",
    "            \n",
    "        else:\n",
    "            frames.append(dataframe)\n",
    "        \n",
    "    return frames, minim_date, maxim_date, id_coin "
   ]
  },
  {
   "cell_type": "code",
   "execution_count": 743,
   "metadata": {},
   "outputs": [],
   "source": [
    "def main():\n",
    "    \n",
    "    coinlist = cg.get_coins_list()\n",
    "    coinlist_df = pd.DataFrame(coinlist)\n",
    "    coin_ids, coin_names = get_coins_name_id(coinlist_df)\n",
    "    \n",
    "    frames = []\n",
    "    minim_date = []\n",
    "    maxim_date = []\n",
    "    id_coin = []\n",
    "    \n",
    "    frames, minim_date, maxim_date, id_coin = get_df_by_coin_time_range_to_csv(coin_ids, n_start = 20, n_end = 22, Save = False)\n",
    "    \n",
    "    if minim_date == []:\n",
    "        print(\"Coins data available only on minutely/hourly basis. Try with another sequence.\")\n",
    "        \n",
    "    else:\n",
    "        index = pd.MultiIndex.from_product([pd.date_range(start= min(minim_date), end=max(maxim_date)).tolist(), \n",
    "                                        id_coin], names =['Datetime', 'Id'])  \n",
    "        match_df = pd.DataFrame(index = index)\n",
    "        filter_type_frames = match_df.merge(reduce(lambda left,right: pd.concat( [left, right]), frames), how=\"outer\", \n",
    "                                    left_index=True, right_index=True).fillna(0)\n",
    "    \n",
    "        filter_type_frames.to_csv(\"test.csv\")\n",
    "        "
   ]
  },
  {
   "cell_type": "code",
   "execution_count": 744,
   "metadata": {},
   "outputs": [
    {
     "name": "stdout",
     "output_type": "stream",
     "text": [
      "Coins data available only on minutely/hourly basis. Try with another sequence.\n"
     ]
    }
   ],
   "source": [
    "if __name__== \"__main__\":\n",
    "  main()"
   ]
  },
  {
   "cell_type": "code",
   "execution_count": null,
   "metadata": {},
   "outputs": [],
   "source": [
    "#visualize coin names\n",
    "coin_ids, coin_names = get_coins_name_id(coinlist_df)\n",
    "coin_names"
   ]
  },
  {
   "cell_type": "code",
   "execution_count": null,
   "metadata": {},
   "outputs": [],
   "source": []
  }
 ],
 "metadata": {
  "kernelspec": {
   "display_name": "Python 3",
   "language": "python",
   "name": "python3"
  },
  "language_info": {
   "codemirror_mode": {
    "name": "ipython",
    "version": 3
   },
   "file_extension": ".py",
   "mimetype": "text/x-python",
   "name": "python",
   "nbconvert_exporter": "python",
   "pygments_lexer": "ipython3",
   "version": "3.7.4"
  }
 },
 "nbformat": 4,
 "nbformat_minor": 2
}
