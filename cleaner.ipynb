{
 "cells": [
  {
   "cell_type": "code",
   "execution_count": 2,
   "metadata": {},
   "outputs": [
    {
     "name": "stdout",
     "output_type": "stream",
     "text": [
      "Requirement already satisfied: pycoingecko in /Users/konstantin/opt/anaconda3/lib/python3.7/site-packages (1.2.0)\n",
      "Requirement already satisfied: requests in /Users/konstantin/opt/anaconda3/lib/python3.7/site-packages (from pycoingecko) (2.22.0)\n",
      "Requirement already satisfied: idna<2.9,>=2.5 in /Users/konstantin/opt/anaconda3/lib/python3.7/site-packages (from requests->pycoingecko) (2.8)\n",
      "Requirement already satisfied: urllib3!=1.25.0,!=1.25.1,<1.26,>=1.21.1 in /Users/konstantin/opt/anaconda3/lib/python3.7/site-packages (from requests->pycoingecko) (1.24.2)\n",
      "Requirement already satisfied: chardet<3.1.0,>=3.0.2 in /Users/konstantin/opt/anaconda3/lib/python3.7/site-packages (from requests->pycoingecko) (3.0.4)\n",
      "Requirement already satisfied: certifi>=2017.4.17 in /Users/konstantin/opt/anaconda3/lib/python3.7/site-packages (from requests->pycoingecko) (2019.9.11)\n",
      "Note: you may need to restart the kernel to use updated packages.\n"
     ]
    }
   ],
   "source": [
    "pip install pycoingecko"
   ]
  },
  {
   "cell_type": "code",
   "execution_count": 3,
   "metadata": {},
   "outputs": [],
   "source": [
    "from pycoingecko import CoinGeckoAPI\n",
    "cg = CoinGeckoAPI()"
   ]
  },
  {
   "cell_type": "code",
   "execution_count": 9,
   "metadata": {},
   "outputs": [],
   "source": [
    "import pandas as pd\n",
    "import numpy as np\n",
    "import time\n",
    "from datetime import datetime"
   ]
  },
  {
   "cell_type": "code",
   "execution_count": 11,
   "metadata": {},
   "outputs": [
    {
     "data": {
      "text/plain": [
       "'/Users/konstantin/Desktop/dateien/IRTG 1792/CoinGecko'"
      ]
     },
     "execution_count": 11,
     "metadata": {},
     "output_type": "execute_result"
    }
   ],
   "source": [
    "#import os\n",
    "#os.getcwd()\n",
    "#os.chdir(\"/Users/konstantin/Desktop/dateien/IRTG 1792/CoinGecko/coin_data\")"
   ]
  },
  {
   "cell_type": "code",
   "execution_count": 6,
   "metadata": {},
   "outputs": [],
   "source": [
    "coinlist = cg.get_coins_list()\n",
    "coinlist_df = pd.DataFrame(coinlist)\n",
    "coinlist_df\n",
    "# coinlist_df.to_csv(\"coinlist_test\")\n",
    "coin_ids = coinlist_df['id']"
   ]
  },
  {
   "cell_type": "code",
   "execution_count": 10,
   "metadata": {},
   "outputs": [],
   "source": [
    "#this loop downloads all market data (=3 columns: price, market capitalization and volume) for each available coin, \n",
    "#   converts it into a data frame and saves it as a csv\n",
    "\n",
    "#the problem of the output is that each element of the dataframe contains the timestamp and the value (instead of only\n",
    "# the value)\n",
    "\n",
    "for coin in coin_ids:\n",
    "    tmp = cg.get_coin_market_chart_by_id(id=coin, vs_currency= 'usd', days='max') #returns a dictionary with 3 keys: price, market cap, volume\n",
    "    tmp_df = pd.DataFrame(tmp)   #converts dictionary to dataframe\n",
    "    tmp_df.to_csv(coin)  #saves dataframe as csv --> many csv-files (each one named with the coin name)\n",
    "    time.sleep(20)"
   ]
  },
  {
   "cell_type": "code",
   "execution_count": 20,
   "metadata": {},
   "outputs": [],
   "source": [
    "#the problem of the previous loop has been solved by this function: it creates a new dataframe which only contains the\n",
    "# values and uses the timestamp (in a readable, rounded format) as row index\n",
    "def create_dataframe(coin):\n",
    "\n",
    "    from datetime import datetime \n",
    "    dataframe = []\n",
    "    t = []\n",
    "    names = [k for k, v in coin.items()]\n",
    "    for i in range([len(v) for k, v in coin.items()][0]):\n",
    "        y = [item[i][1] for item in coin.values()]\n",
    "        x = [datetime.fromtimestamp(item[i][0]/1000).strftime(\"%Y-%m-%d\") for item in coin.values()][0]\n",
    "        dataframe.append(y)\n",
    "        t.append(x)\n",
    "    \n",
    "    dataframe = pd.DataFrame(dataframe, columns = names)\n",
    "    dataframe[\"Datetime\"] = t\n",
    "    dataframe[\"Datetime\"] = pd.to_datetime(dataframe[\"Datetime\"])\n",
    "    dataframe = dataframe.set_index(\"Datetime\")\n",
    "    return dataframe\n"
   ]
  },
  {
   "cell_type": "code",
   "execution_count": 31,
   "metadata": {},
   "outputs": [
    {
     "name": "stdout",
     "output_type": "stream",
     "text": [
      "              prices   market_caps  total_volumes\n",
      "Datetime                                         \n",
      "2018-09-15  0.009788  30917.331417     103.397128\n",
      "2018-09-16  0.009883  31330.589618      94.514808\n",
      "2018-09-17  0.012145  38704.857566     307.498611\n",
      "2018-09-18  0.007965  25529.340752     340.808326\n",
      "2018-09-19  0.011866  38156.742601     166.514620\n",
      "...              ...           ...            ...\n",
      "2020-03-11  0.001318  14008.755344    3179.939230\n",
      "2020-03-12  0.001320  14050.784111    3116.014642\n",
      "2020-03-13  0.000775   8659.364900    1931.684114\n",
      "2020-03-14  0.000927   9810.281631    2208.178918\n",
      "2020-03-15  0.000941   9608.915926    2227.140596\n",
      "\n",
      "[548 rows x 3 columns]\n",
      "              prices  market_caps  total_volumes\n",
      "Datetime                                        \n",
      "2018-11-20  0.002838          0.0     253.534617\n",
      "2018-11-21  0.003448          0.0    5384.450788\n",
      "2018-11-22  0.002144          0.0     262.713559\n",
      "2018-11-23  0.001139          0.0     267.817280\n",
      "2018-11-24  0.001125          0.0     281.555452\n",
      "...              ...          ...            ...\n",
      "2019-12-24  0.000840          0.0      69.518550\n",
      "2019-12-25  0.000840          0.0      69.518550\n",
      "2019-12-26  0.000840          0.0      69.518550\n",
      "2019-12-27  0.000840          0.0      69.518550\n",
      "2019-12-26  0.000840          0.0      69.518550\n",
      "\n",
      "[235 rows x 3 columns]\n",
      "              prices   market_caps  total_volumes\n",
      "Datetime                                         \n",
      "2018-07-19  0.483325  1.933300e+07   64385.191049\n",
      "2018-07-20  0.432846  1.731383e+07   92248.916728\n",
      "2018-07-21  0.391944  1.567774e+07  131175.413170\n",
      "2018-07-22  0.377234  1.508935e+07   62006.348324\n",
      "2018-07-23  0.360793  1.443172e+07   24066.254330\n",
      "...              ...           ...            ...\n",
      "2020-03-11  0.063377  2.732198e+06    2319.749178\n",
      "2020-03-12  0.066462  2.665399e+06    2026.813975\n",
      "2020-03-13  0.035913  1.405163e+06     872.836536\n",
      "2020-03-14  0.046248  1.837706e+06    2210.455350\n",
      "2020-03-15  0.042260  1.697827e+06    2020.159555\n",
      "\n",
      "[605 rows x 3 columns]\n"
     ]
    }
   ],
   "source": [
    "#the final loop \n",
    "for coin in coin_ids[0:3]:\n",
    "    tmp = cg.get_coin_market_chart_by_id(id=coin, vs_currency= 'usd', days='max') #downloads market data for each coin\n",
    "    result = create_dataframe(tmp) #the function from the cell above\n",
    "    #result.to_csv(coin)\n",
    "    print(result)\n",
    "    time.sleep(20)"
   ]
  },
  {
   "cell_type": "code",
   "execution_count": null,
   "metadata": {},
   "outputs": [],
   "source": [
    "#now, merge datasets by Datetime"
   ]
  }
 ],
 "metadata": {
  "kernelspec": {
   "display_name": "Python 3",
   "language": "python",
   "name": "python3"
  },
  "language_info": {
   "codemirror_mode": {
    "name": "ipython",
    "version": 3
   },
   "file_extension": ".py",
   "mimetype": "text/x-python",
   "name": "python",
   "nbconvert_exporter": "python",
   "pygments_lexer": "ipython3",
   "version": "3.7.4"
  }
 },
 "nbformat": 4,
 "nbformat_minor": 2
}
